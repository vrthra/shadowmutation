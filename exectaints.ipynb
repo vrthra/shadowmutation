{
 "cells": [
  {
   "cell_type": "markdown",
   "metadata": {},
   "source": [
    "# Playground for Mutation Testing with Execution Taints\n",
    "\n",
    "This jupyter notebook demonstrates the usage of our prototype library that implements execution taints for python.\n",
    "\n",
    "As multiprocessing is limited in jupyter notebooks, all examples will use the non-forking version.\n",
    "\n",
    "We start with importing the functions used in the AST rewritten examples and some functions to make our library work in\n",
    "a notebook context."
   ]
  },
  {
   "cell_type": "code",
   "execution_count": 1,
   "metadata": {},
   "outputs": [],
   "source": [
    "from shadow import reinit, t_final_exception_test, t_wrap, t_combine, t_wait_for_forks, t_get_killed, t_cond, t_assert, \\\n",
    "                   t_logical_path, t_seen_mutants, t_masked_mutants, ShadowVariable, t_class, t_active_mutants, t_sv"
   ]
  },
  {
   "cell_type": "markdown",
   "metadata": {},
   "source": [
    "Define some functions to make it easy to compare which mutations have been killed."
   ]
  },
  {
   "cell_type": "code",
   "execution_count": 2,
   "metadata": {},
   "outputs": [],
   "source": [
    "def gen_killed(strong):\n",
    "    return {\n",
    "        'strong': set(strong),\n",
    "    }\n",
    "\n",
    "\n",
    "def get_killed():\n",
    "    t_wait_for_forks()\n",
    "    results = t_get_killed()\n",
    "    return {\n",
    "        'strong': set(results['strong']),\n",
    "    }"
   ]
  },
  {
   "cell_type": "markdown",
   "metadata": {},
   "source": [
    "The basic component is a tainted variable (called a `ShadowVariable` internally), it combines the different values caused by mutations into one variable."
   ]
  },
  {
   "cell_type": "code",
   "execution_count": 9,
   "metadata": {},
   "outputs": [
    {
     "name": "stdout",
     "output_type": "stream",
     "text": [
      "To implement the library transparently global state needs to be kept.\n",
      "Using the reinit function this global state can be reset.\n",
      "The 'shadow' execution mode enables the non-forking, non-memoizing execution mode for the library.\n",
      "Atexit is needed to correctly gather results on the end of programs, this is not needed here.\n",
      "\n",
      "The basic component is a tainted variable, let us create a simple one:\n",
      "ShadowVariable({1: 1, 0: 0})\n",
      "\n",
      "Assert that the expected value is zero, this is true for mainline (0) but not for mutation 1.\n",
      "\n",
      "This results in mutation 1 being marked as strongly killed:\n",
      "{'strong': {1}}\n"
     ]
    }
   ],
   "source": [
    "print(\"To implement the library transparently global state needs to be kept.\")\n",
    "print(\"Using the reinit function this global state can be reset.\")\n",
    "print(\"The 'shadow' execution mode enables the non-forking, non-memoizing execution mode for the library.\")\n",
    "print(\"Atexit is needed to correctly gather results on the end of programs, this is not needed here.\")\n",
    "reinit(execution_mode='shadow', no_atexit=True)\n",
    "\n",
    "print()\n",
    "print(\"The basic component is a tainted variable, let us create a simple one:\")\n",
    "tainted_int = t_combine({0: 0, 1: 1})\n",
    "print(tainted_int)\n",
    "\n",
    "print()\n",
    "print(\"Assert that the expected value is zero, this is true for mainline (0) but not for mutation 1.\")\n",
    "t_assert(tainted_int == 0)\n",
    "\n",
    "print()\n",
    "print(\"This results in mutation 1 being marked as strongly killed:\")\n",
    "killed = get_killed()\n",
    "print(killed)\n",
    "\n",
    "assert killed == gen_killed({1})"
   ]
  },
  {
   "cell_type": "markdown",
   "metadata": {},
   "source": [
    "Variables can also be simply wrapped adding only the mainline."
   ]
  },
  {
   "cell_type": "code",
   "execution_count": 11,
   "metadata": {},
   "outputs": [
    {
     "name": "stdout",
     "output_type": "stream",
     "text": [
      "\n",
      "Wrapping a variable:\n",
      "ShadowVariable({0: 0})\n",
      "ShadowVariable({0: []})\n"
     ]
    }
   ],
   "source": [
    "reinit(execution_mode='shadow', no_atexit=True)\n",
    "\n",
    "print()\n",
    "print(\"Wrapping a variable:\")\n",
    "tainted_int = t_sv(0)\n",
    "print(tainted_int)\n",
    "tainted_list = t_sv([])\n",
    "print(tainted_list)"
   ]
  },
  {
   "cell_type": "markdown",
   "metadata": {},
   "source": [
    "Functions need to be wrapped to correctly handle execution.\n",
    "\n",
    "`@t_wrap` provides all functionality needed to wrap a function.\n",
    "\n",
    "To correctly handle control flow we need to wrap conditionals, this functionality is provided by `t_cond`.\n",
    "If the boolean values differ the execution will be forked in the forking version and re-execution of the function\n",
    "is done in the non-forking version (which is used in this notebook)."
   ]
  },
  {
   "cell_type": "code",
   "execution_count": 31,
   "metadata": {},
   "outputs": [],
   "source": [
    "@t_wrap\n",
    "def add_to_list(data, val):\n",
    "    ii = 0\n",
    "    while t_cond(ii < val):\n",
    "        data.append(ii)\n",
    "        ii += 1\n",
    "    print(f\"Following mutation {t_logical_path()}, data at end of execution: {data}\")"
   ]
  },
  {
   "cell_type": "markdown",
   "metadata": {},
   "source": [
    "In the next example create a list and update it using the newly defined function."
   ]
  },
  {
   "cell_type": "code",
   "execution_count": 33,
   "metadata": {},
   "outputs": [
    {
     "name": "stdout",
     "output_type": "stream",
     "text": [
      "Initialize variables\n",
      "ShadowVariable({1: 1, 2: 2, 0: 0})\n",
      "ShadowVariable({0: []})\n",
      "\n",
      "Execute function:\n",
      "Following mutation 0, data at end of execution: ShadowVariable({0: []})\n",
      "Following mutation 1, data at end of execution: ShadowVariable({0: [0]})\n",
      "Following mutation 2, data at end of execution: ShadowVariable({0: [0, 1]})\n",
      "The results are merged in the wrapper and list is updated:\n",
      "ShadowVariable({0: [], 1: [0], 2: [0, 1]})\n"
     ]
    }
   ],
   "source": [
    "reinit(execution_mode='shadow', no_atexit=True)\n",
    "\n",
    "print(\"Initialize variables\")\n",
    "tainted_int = t_combine({0: 0, 1: 1, 2: 2})\n",
    "tainted_list = t_sv([])\n",
    "print(tainted_int)\n",
    "print(tainted_list)\n",
    "\n",
    "print()\n",
    "print(\"Execute function:\")\n",
    "add_to_list(tainted_list, tainted_int)\n",
    "print(\"The results are merged in the wrapper and list is updated:\")\n",
    "print(tainted_list)"
   ]
  },
  {
   "cell_type": "markdown",
   "metadata": {},
   "source": [
    "Another more complex example illustrating the execution order for nested functions.\n",
    "\n",
    "The number after the function name is the currently followed path. The inner function is re-executed until all currently active mutations are evaluated."
   ]
  },
  {
   "cell_type": "code",
   "execution_count": 60,
   "metadata": {},
   "outputs": [
    {
     "name": "stdout",
     "output_type": "stream",
     "text": [
      "func  0:                     ShadowVariable({1: 1, 2: 2, 3: 3, 0: 0})\n",
      "func  0 is less equal 1:     ShadowVariable({1: 1, 2: 2, 3: 3, 0: 0})\n",
      "inner 0:                     ShadowVariable({1: 2, 0: 1})\n",
      "inner 0 is equal 1:          ShadowVariable({1: 2, 0: 1})\n",
      "inner 0 res:                 ShadowVariable({0: 0})\n",
      "inner 1:                     ShadowVariable({1: 2, 0: 1})\n",
      "inner 1 is not equal 1:      ShadowVariable({1: 2, 0: 1})\n",
      "inner 1 res:                 ShadowVariable({0: 2, 1: 3})\n",
      "func  0 res:                 ShadowVariable({0: 0, 1: 3})\n",
      "func  2:                     ShadowVariable({2: 2, 3: 3, 0: 0})\n",
      "func  2 is not less equal 1: ShadowVariable({2: 2, 3: 3, 0: 0})\n",
      "inner 2:                     ShadowVariable({2: 1, 3: 2, 0: -1})\n",
      "inner 2 is equal 1:          ShadowVariable({2: 1, 3: 2, 0: -1})\n",
      "inner 2 res:                 ShadowVariable({0: -2, 2: 0})\n",
      "inner 3:                     ShadowVariable({3: 2, 0: -1})\n",
      "inner 3 is not equal 1:      ShadowVariable({3: 2, 0: -1})\n",
      "inner 3 res:                 ShadowVariable({0: 0, 3: 3})\n",
      "func  2 res:                 ShadowVariable({0: -2, 2: 0, 3: 3})\n",
      "Final result: ShadowVariable({0: 0, 1: 3, 2: 0, 3: 3})\n"
     ]
    }
   ],
   "source": [
    "@t_wrap\n",
    "def inner(tainted_int):\n",
    "    print(f\"inner {t_logical_path()}:                     {tainted_int}\")\n",
    "    if t_cond(tainted_int == 1):\n",
    "        print(f\"inner {t_logical_path()} is equal 1:          {tainted_int}\")\n",
    "        tainted_int -= 1\n",
    "    else:\n",
    "        print(f\"inner {t_logical_path()} is not equal 1:      {tainted_int}\")\n",
    "        tainted_int += 1\n",
    "    print(f\"inner {t_logical_path()} res:                 {tainted_int}\")\n",
    "    return tainted_int\n",
    "\n",
    "@t_wrap\n",
    "def func(tainted_int):\n",
    "    print(f\"func  {t_logical_path()}:                     {tainted_int}\")\n",
    "    if t_cond(tainted_int <= 1):\n",
    "        print(f\"func  {t_logical_path()} is less equal 1:     {tainted_int}\")\n",
    "        tainted_int += 1\n",
    "        tainted_int = inner(tainted_int)\n",
    "    else:\n",
    "        print(f\"func  {t_logical_path()} is not less equal 1: {tainted_int}\")\n",
    "        tainted_int -= 1\n",
    "        tainted_int = inner(tainted_int)\n",
    "    print(f\"func  {t_logical_path()} res:                 {tainted_int}\")\n",
    "    return tainted_int\n",
    "\n",
    "reinit(execution_mode=\"shadow\", no_atexit=True)\n",
    "var = t_combine({0: 0, 1: 1, 2: 2, 3: 3})\n",
    "res = func(var)\n",
    "print(f\"Final result: {res}\")\n",
    "t_assert(res == 0)\n",
    "assert get_killed() == gen_killed([1, 3])"
   ]
  },
  {
   "cell_type": "markdown",
   "metadata": {},
   "source": [
    "The prototype also supports user defined classes. This is supported by the `t_class` function wrapper, this transparently wraps attributes and method calls to created objects.\n",
    "\n",
    "Currently the objects are duplicated for evaluation of further mutants, while computationally expensive this eases the implementation effort.\n",
    "Performance can be improved for example by using a copy on write mechanism and copying fields individually."
   ]
  },
  {
   "cell_type": "code",
   "execution_count": 73,
   "metadata": {},
   "outputs": [
    {
     "name": "stdout",
     "output_type": "stream",
     "text": [
      "ShadowVariable({1: BankAccount(balance=True, overdrawn=False), 2: BankAccount(balance=11, overdrawn=False), 3: BankAccount(balance=20, overdrawn=False), 0: BankAccount(balance=10, overdrawn=False)})\n",
      "\n",
      "ShadowVariable({13: BankAccount(balance=5, overdrawn=False), 14: BankAccount(balance=50, overdrawn=False), 16: BankAccount(balance=0, overdrawn=False), 17: BankAccount(balance=320, overdrawn=False), 18: BankAccount(balance=0, overdrawn=False), 19: BankAccount(balance=15, overdrawn=False), 20: BankAccount(balance=15, overdrawn=False), 21: BankAccount(balance=0, overdrawn=False), 22: BankAccount(balance=2, overdrawn=False), 0: BankAccount(balance=15, overdrawn=False)})\n",
      "\n",
      "ShadowVariable({19: BankAccount(balance=-185, overdrawn=True), 20: BankAccount(balance=-185, overdrawn=True), 23: BankAccount(balance=215, overdrawn=False), 24: BankAccount(balance=3000, overdrawn=False), 26: BankAccount(balance=15, overdrawn=False), 27: BankAccount(balance=24104070663884854133129431385117439037833044906741892529520640, overdrawn=False), 28: BankAccount(balance=0, overdrawn=False), 29: BankAccount(balance=207, overdrawn=False), 30: BankAccount(balance=199, overdrawn=False), 31: BankAccount(balance=8, overdrawn=False), 32: BankAccount(balance=0, overdrawn=False), 0: BankAccount(balance=-185, overdrawn=True), 10: BankAccount(balance=-185, overdrawn=False)})\n"
     ]
    }
   ],
   "source": [
    "@t_class\n",
    "class BankAccount:\n",
    "    balance: int\n",
    "    overdrawn: bool\n",
    "\n",
    "    def __init__(self, initial_balance: int):\n",
    "        self.balance = t_combine({(0): lambda : initial_balance, (1): lambda : initial_balance != 1, (2): lambda : initial_balance + 1, (3): lambda : initial_balance * 2})\n",
    "        self.overdrawn = t_combine({(0): lambda : False})\n",
    "        self.update_overdrawn()\n",
    "\n",
    "    def __repr__(self):\n",
    "        return f\"BankAccount(balance={self.balance}, overdrawn={self.overdrawn})\"\n",
    "\n",
    "    def update_overdrawn(self) ->None:\n",
    "        if t_cond(self.balance >= 0):\n",
    "            self.overdrawn = t_combine({(0): lambda : False})\n",
    "        else:\n",
    "            self.overdrawn = t_combine({(0): lambda : True, (10): lambda : True != 1})\n",
    "\n",
    "    def deposit(self, amount: int) ->None:\n",
    "        self.balance = t_combine({(0): lambda : self.balance + amount, (13): lambda : self.balance - amount, (14): lambda : self.balance * amount, (16): lambda : self.balance % amount, (17): lambda : self.balance << amount, (18): lambda : self.balance >> amount, (19): lambda : self.balance | amount, (20): lambda : self.balance ^ amount, (21): lambda : self.balance & amount, (22): lambda : self.balance // amount})\n",
    "        self.update_overdrawn()\n",
    "\n",
    "    def withdraw(self, amount: int) ->None:\n",
    "        self.balance = t_combine({(0): lambda : self.balance - amount, (23): lambda : self.balance + amount, (24): lambda : self.balance * amount, (26): lambda : self.balance % amount, (27): lambda : self.balance << amount, (28): lambda : self.balance >> amount, (29): lambda : self.balance | amount, (30): lambda : self.balance ^ amount, (31): lambda : self.balance & amount, (32): lambda : self.balance // amount})\n",
    "        self.update_overdrawn()\n",
    "\n",
    "    def is_overdrawn(self) ->bool:\n",
    "        return self.overdrawn\n",
    "\n",
    "\n",
    "@t_wrap\n",
    "def bank_example() ->None:\n",
    "    my_account = BankAccount(10)\n",
    "    t_assert(my_account.balance == 10)\n",
    "    t_assert(my_account.overdrawn == False)\n",
    "    print(my_account)\n",
    "    print()\n",
    "\n",
    "    my_account.deposit(5)\n",
    "    t_assert(my_account.balance == 15)\n",
    "    t_assert(my_account.overdrawn == False)\n",
    "    print(my_account)\n",
    "    print()\n",
    "\n",
    "    my_account.withdraw(200)\n",
    "    t_assert(my_account.balance == -185)\n",
    "    t_assert(my_account.overdrawn == True)\n",
    "    print(my_account)\n",
    "\n",
    "\n",
    "reinit(execution_mode=\"shadow\", no_atexit=True)\n",
    "bank_example()\n",
    "assert get_killed() == gen_killed([ 1, 2, 3, 10, 13, 14, 16, 17, 18, 21, 22, 23, 24, 26, 27, 28, 29, 30, 31, 32])"
   ]
  }
 ],
 "metadata": {
  "interpreter": {
   "hash": "767d51c1340bd893661ea55ea3124f6de3c7a262a8b4abca0554b478b1e2ff90"
  },
  "kernelspec": {
   "display_name": "Python 3",
   "language": "python",
   "name": "python3"
  },
  "language_info": {
   "codemirror_mode": {
    "name": "ipython",
    "version": 3
   },
   "file_extension": ".py",
   "mimetype": "text/x-python",
   "name": "python",
   "nbconvert_exporter": "python",
   "pygments_lexer": "ipython3",
   "version": "3.10.2"
  }
 },
 "nbformat": 4,
 "nbformat_minor": 2
}
